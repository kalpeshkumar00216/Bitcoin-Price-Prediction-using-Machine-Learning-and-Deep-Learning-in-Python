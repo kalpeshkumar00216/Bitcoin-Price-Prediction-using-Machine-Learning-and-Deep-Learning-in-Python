{
 "cells": [
  {
   "cell_type": "code",
   "execution_count": null,
   "id": "d7a7297f-dda6-42b7-967e-46378fe7ca5a",
   "metadata": {},
   "outputs": [],
   "source": []
  },
  {
   "cell_type": "code",
   "execution_count": 2,
   "id": "4f22c89f-b2ac-4f38-9504-50cca05a44b1",
   "metadata": {},
   "outputs": [],
   "source": [
    "# Machine Learning Model this notebook uses Python libraries for data analysis,\n",
    "# preprocessing, and classification with Logistic Regression, SVM, and XGBoost.\n",
    "\n",
    "import numpy as np\n",
    "import pandas as pd\n",
    "import matplotlib.pyplot as plt\n",
    "import seaborn as sn\n",
    "\n",
    "from sklearn.model_selection import train_test_split\n",
    "from sklearn.preprocessing import StandardScaler\n",
    "from sklearn.linear_model import LogisticRegression\n",
    "from sklearn.svm import SVC\n",
    "from xgboost import XGBClassifier\n",
    "from sklearn import metrics\n",
    "\n",
    "import warnings\n",
    "warnings.filterwarnings('ignore')"
   ]
  },
  {
   "cell_type": "code",
   "execution_count": null,
   "id": "2fd57b78-bc76-46c3-95cf-13d28846b366",
   "metadata": {},
   "outputs": [],
   "source": [
    "df = pd.read_csv('bitcoin.csv')\n",
    "df.head()"
   ]
  },
  {
   "cell_type": "code",
   "execution_count": null,
   "id": "ed990d2e-00bc-4a47-817e-e0507f50a3bc",
   "metadata": {},
   "outputs": [],
   "source": [
    "df.shape"
   ]
  },
  {
   "cell_type": "code",
   "execution_count": null,
   "id": "86de47ea-aa3d-45c1-940f-25fceed40a4a",
   "metadata": {},
   "outputs": [],
   "source": [
    "df.describe()"
   ]
  },
  {
   "cell_type": "code",
   "execution_count": null,
   "id": "c13a05e9-9d14-4123-8d8e-595e7c931270",
   "metadata": {},
   "outputs": [],
   "source": [
    "df.info()"
   ]
  },
  {
   "cell_type": "code",
   "execution_count": null,
   "id": "baf37787-fa1c-4917-9e4f-7fbf9911a384",
   "metadata": {},
   "outputs": [],
   "source": [
    "# Bitcoin Close Price Visualization : A time-series plot of Bitcoin's daily closing price to observe overall trends and fluctuations.\n",
    "\n",
    "plt.figure(figsize=(15, 5))\n",
    "plt.plot(df['Close'])\n",
    "plt.title('Bitcoin Close price.', fontsize=15)\n",
    "plt.ylabel('Price in dollars.')\n",
    "plt.show()"
   ]
  },
  {
   "cell_type": "code",
   "execution_count": null,
   "id": "e2860feb-389b-4d6e-844c-0900018d022a",
   "metadata": {},
   "outputs": [],
   "source": [
    "df[df['Close'] == df['Adj Close']].shape, df.shape"
   ]
  },
  {
   "cell_type": "code",
   "execution_count": null,
   "id": "69b15d59-6f93-4b8f-9f4b-8313dbf0ed5c",
   "metadata": {},
   "outputs": [],
   "source": [
    "df = df.drop(['Adj Close'], axis=1)"
   ]
  },
  {
   "cell_type": "code",
   "execution_count": null,
   "id": "ae7dfee0-a365-4714-83c2-6a72e313a5e3",
   "metadata": {},
   "outputs": [],
   "source": [
    "df.isnull().sum()"
   ]
  },
  {
   "cell_type": "code",
   "execution_count": null,
   "id": "bdae5174-1ef6-4490-8e34-e8d31e338125",
   "metadata": {},
   "outputs": [],
   "source": [
    "features = ['Open', 'High', 'Low', 'Close']\n",
    "\n",
    "plt.subplots(figsize=(20,10))\n",
    "for i, col in enumerate(features):\n",
    "  plt.subplot(2,2,i+1)\n",
    "  sn.distplot(df[col])\n",
    "plt.show()"
   ]
  },
  {
   "cell_type": "code",
   "execution_count": null,
   "id": "6cd0966b-4dfd-491f-9179-d1777a9d3c3d",
   "metadata": {},
   "outputs": [],
   "source": [
    "plt.subplots(figsize=(20,10))\n",
    "for i, col in enumerate(features):\n",
    "  plt.subplot(2,2,i+1)\n",
    "  sn.boxplot(df[col], orient='h')\n",
    "plt.show()"
   ]
  },
  {
   "cell_type": "code",
   "execution_count": null,
   "id": "ee644b8b-7ca1-4e72-a5d2-df7e13595ba4",
   "metadata": {},
   "outputs": [],
   "source": [
    "splitted = df['Date'].str.split('-', expand=True)\n",
    "\n",
    "df['year'] = splitted[0].astype('int')\n",
    "df['month'] = splitted[1].astype('int')\n",
    "df['day'] = splitted[2].astype('int')\n",
    "\n",
    "# Convert the 'Date' column to datetime objects\n",
    "df['Date'] = pd.to_datetime(df['Date'])\n",
    "\n",
    "df.head()"
   ]
  },
  {
   "cell_type": "code",
   "execution_count": null,
   "id": "6078c72b-bd7f-4339-8bea-5af06cd7027f",
   "metadata": {},
   "outputs": [],
   "source": [
    "data_grouped = df.groupby('year').mean()\n",
    "plt.subplots(figsize=(20,10))\n",
    "for i, col in enumerate(['Open', 'High', 'Low', 'Close']):\n",
    "  plt.subplot(2,2,i+1)\n",
    "  data_grouped[col].plot.bar()\n",
    "plt.show()"
   ]
  },
  {
   "cell_type": "code",
   "execution_count": null,
   "id": "f312e781-a1e3-407f-9d84-6be10d32d81e",
   "metadata": {},
   "outputs": [],
   "source": [
    "df['is_quarter_end'] = np.where(df['month']%3==0,1,0)\n",
    "df.head()"
   ]
  },
  {
   "cell_type": "code",
   "execution_count": null,
   "id": "b358940e-caeb-48dd-a9a8-f69b19bd8bbc",
   "metadata": {},
   "outputs": [],
   "source": [
    "df['open-close']  = df['Open'] - df['Close']\n",
    "df['low-high']  = df['Low'] - df['High']\n",
    "df['target'] = np.where(df['Close'].shift(-1) > df['Close'], 1, 0)"
   ]
  },
  {
   "cell_type": "code",
   "execution_count": null,
   "id": "c099db9d-5c8e-494f-b758-6453d09c4fa9",
   "metadata": {},
   "outputs": [],
   "source": [
    "plt.pie(df['target'].value_counts().values,\n",
    "        labels=[0, 1], autopct='%1.1f%%')\n",
    "plt.show()"
   ]
  },
  {
   "cell_type": "code",
   "execution_count": null,
   "id": "ae198454-041f-4180-957c-b48ee4eb4072",
   "metadata": {},
   "outputs": [],
   "source": [
    "plt.figure(figsize=(10, 10))\n",
    "\n",
    "sn.heatmap(df.corr() > 0.9, annot=True, cbar=False)\n",
    "plt.show()"
   ]
  },
  {
   "cell_type": "code",
   "execution_count": null,
   "id": "cd905791-4b60-499e-98a6-6d8c1ea42e3c",
   "metadata": {},
   "outputs": [],
   "source": [
    "# now use machine learning\n",
    "from sklearn.model_selection import train_test_split\n",
    "from sklearn.preprocessing import StandardScaler\n",
    "\n",
    "# Assuming df is already defined\n",
    "features = df[['open-close', 'low-high', 'is_quarter_end']]\n",
    "target = df['target']\n",
    "\n",
    "# Scaling the features\n",
    "scaler = StandardScaler()\n",
    "features = scaler.fit_transform(features)\n",
    "\n",
    "# Split the data into training and validation (test) sets\n",
    "X_train, X_valid, Y_train, Y_valid = train_test_split(features, target, test_size=0.2, random_state=42)\n",
    "\n",
    "# 'test_size=0.2' means 20% of the data will be used for testing, and 80% for training\n"
   ]
  },
  {
   "cell_type": "code",
   "execution_count": null,
   "id": "b08a6762-d324-4586-8a55-8ddb8f230323",
   "metadata": {},
   "outputs": [],
   "source": [
    "models = [LogisticRegression(), SVC(kernel='poly', probability=True), XGBClassifier()]\n",
    "\n",
    "for i in range(3):\n",
    "  models[i].fit(X_train, Y_train)\n",
    "\n",
    "  print(f'{models[i]} : ')\n",
    "  print('Training Accuracy : ', metrics.roc_auc_score(Y_train, models[i].predict_proba(X_train)[:,1]))\n",
    "  print('Validation Accuracy : ', metrics.roc_auc_score(Y_valid, models[i].predict_proba(X_valid)[:,1]))\n",
    "  print()"
   ]
  },
  {
   "cell_type": "code",
   "execution_count": null,
   "id": "f072943d-e210-492f-9083-6182a7815f10",
   "metadata": {},
   "outputs": [],
   "source": [
    "from sklearn.metrics import ConfusionMatrixDisplay\n",
    "\n",
    "ConfusionMatrixDisplay.from_estimator(models[0], X_valid, Y_valid, cmap='Blues')\n",
    "plt.show()"
   ]
  },
  {
   "cell_type": "code",
   "execution_count": null,
   "id": "267fdb7e-9a86-4aca-96b1-06efb597bf73",
   "metadata": {},
   "outputs": [],
   "source": []
  }
 ],
 "metadata": {
  "kernelspec": {
   "display_name": "Python 3 (ipykernel)",
   "language": "python",
   "name": "python3"
  },
  "language_info": {
   "codemirror_mode": {
    "name": "ipython",
    "version": 3
   },
   "file_extension": ".py",
   "mimetype": "text/x-python",
   "name": "python",
   "nbconvert_exporter": "python",
   "pygments_lexer": "ipython3",
   "version": "3.13.2"
  }
 },
 "nbformat": 4,
 "nbformat_minor": 5
}
